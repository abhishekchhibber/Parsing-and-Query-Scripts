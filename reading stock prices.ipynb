{
 "cells": [
  {
   "cell_type": "code",
   "execution_count": 1,
   "metadata": {
    "collapsed": false
   },
   "outputs": [],
   "source": [
    "from urllib.request import urlopen\n",
    "from bs4 import BeautifulSoup\n",
    "import pandas as pd\n",
    "import html5lib\n",
    "import time"
   ]
  },
  {
   "cell_type": "code",
   "execution_count": 2,
   "metadata": {
    "collapsed": true
   },
   "outputs": [],
   "source": [
    "url = \"https://www.google.com/finance/historical?q=NSE%3ARELIANCE&ei=xM9VWanaI4bYugTIgqCACQ\""
   ]
  },
  {
   "cell_type": "code",
   "execution_count": 3,
   "metadata": {
    "collapsed": false
   },
   "outputs": [],
   "source": [
    "soup = BeautifulSoup(urlopen(url), 'html.parser')"
   ]
  },
  {
   "cell_type": "code",
   "execution_count": 4,
   "metadata": {
    "collapsed": true
   },
   "outputs": [],
   "source": [
    "head1 = soup.findAll(\"title\")"
   ]
  },
  {
   "cell_type": "code",
   "execution_count": 5,
   "metadata": {
    "collapsed": false
   },
   "outputs": [],
   "source": [
    "head2 = head1[0].text\n"
   ]
  },
  {
   "cell_type": "code",
   "execution_count": 6,
   "metadata": {
    "collapsed": false
   },
   "outputs": [],
   "source": [
    "head3 = head2.split(':', 1 )"
   ]
  },
  {
   "cell_type": "code",
   "execution_count": 7,
   "metadata": {
    "collapsed": true
   },
   "outputs": [],
   "source": [
    "head4 = head3[0]"
   ]
  },
  {
   "cell_type": "code",
   "execution_count": 8,
   "metadata": {
    "collapsed": false
   },
   "outputs": [
    {
     "data": {
      "text/plain": [
       "'Reliance Industries Limited'"
      ]
     },
     "execution_count": 8,
     "metadata": {},
     "output_type": "execute_result"
    }
   ],
   "source": [
    "head4"
   ]
  },
  {
   "cell_type": "code",
   "execution_count": 9,
   "metadata": {
    "collapsed": true
   },
   "outputs": [],
   "source": [
    "items  = soup.findAll(\"table\",{\"class\":\"gf-table historical_price\"})"
   ]
  },
  {
   "cell_type": "code",
   "execution_count": null,
   "metadata": {
    "collapsed": true
   },
   "outputs": [],
   "source": []
  },
  {
   "cell_type": "code",
   "execution_count": 10,
   "metadata": {
    "collapsed": false
   },
   "outputs": [],
   "source": [
    "table = pd.read_html(url, attrs={\"class\":\"gf-table historical_price\"})"
   ]
  },
  {
   "cell_type": "code",
   "execution_count": 11,
   "metadata": {
    "collapsed": false
   },
   "outputs": [],
   "source": [
    "taby = table[0]"
   ]
  },
  {
   "cell_type": "code",
   "execution_count": 12,
   "metadata": {
    "collapsed": false
   },
   "outputs": [],
   "source": [
    "taby.rename(columns=taby.iloc[0], inplace=True)  \n"
   ]
  },
  {
   "cell_type": "code",
   "execution_count": 13,
   "metadata": {
    "collapsed": false
   },
   "outputs": [],
   "source": [
    "taby.drop(taby.index[[0]], inplace=True)"
   ]
  },
  {
   "cell_type": "code",
   "execution_count": 14,
   "metadata": {
    "collapsed": true
   },
   "outputs": [],
   "source": [
    "taby['Name'] = head4"
   ]
  },
  {
   "cell_type": "code",
   "execution_count": 15,
   "metadata": {
    "collapsed": false
   },
   "outputs": [
    {
     "data": {
      "text/html": [
       "<div>\n",
       "<style>\n",
       "    .dataframe thead tr:only-child th {\n",
       "        text-align: right;\n",
       "    }\n",
       "\n",
       "    .dataframe thead th {\n",
       "        text-align: left;\n",
       "    }\n",
       "\n",
       "    .dataframe tbody tr th {\n",
       "        vertical-align: top;\n",
       "    }\n",
       "</style>\n",
       "<table border=\"1\" class=\"dataframe\">\n",
       "  <thead>\n",
       "    <tr style=\"text-align: right;\">\n",
       "      <th></th>\n",
       "      <th>Date</th>\n",
       "      <th>Open</th>\n",
       "      <th>High</th>\n",
       "      <th>Low</th>\n",
       "      <th>Close</th>\n",
       "      <th>Volume</th>\n",
       "      <th>Name</th>\n",
       "    </tr>\n",
       "  </thead>\n",
       "  <tbody>\n",
       "    <tr>\n",
       "      <th>1</th>\n",
       "      <td>Jul 3, 2017</td>\n",
       "      <td>1388.20</td>\n",
       "      <td>1394.70</td>\n",
       "      <td>1371.00</td>\n",
       "      <td>1384.00</td>\n",
       "      <td>2101886</td>\n",
       "      <td>Reliance Industries Limited</td>\n",
       "    </tr>\n",
       "    <tr>\n",
       "      <th>2</th>\n",
       "      <td>Jun 30, 2017</td>\n",
       "      <td>1392.00</td>\n",
       "      <td>1392.40</td>\n",
       "      <td>1375.05</td>\n",
       "      <td>1383.00</td>\n",
       "      <td>1786211</td>\n",
       "      <td>Reliance Industries Limited</td>\n",
       "    </tr>\n",
       "    <tr>\n",
       "      <th>3</th>\n",
       "      <td>Jun 29, 2017</td>\n",
       "      <td>1400.00</td>\n",
       "      <td>1410.00</td>\n",
       "      <td>1390.10</td>\n",
       "      <td>1392.35</td>\n",
       "      <td>2948322</td>\n",
       "      <td>Reliance Industries Limited</td>\n",
       "    </tr>\n",
       "    <tr>\n",
       "      <th>4</th>\n",
       "      <td>Jun 28, 2017</td>\n",
       "      <td>1439.95</td>\n",
       "      <td>1439.95</td>\n",
       "      <td>1395.55</td>\n",
       "      <td>1399.80</td>\n",
       "      <td>3558538</td>\n",
       "      <td>Reliance Industries Limited</td>\n",
       "    </tr>\n",
       "    <tr>\n",
       "      <th>5</th>\n",
       "      <td>Jun 27, 2017</td>\n",
       "      <td>1432.00</td>\n",
       "      <td>1443.00</td>\n",
       "      <td>1425.00</td>\n",
       "      <td>1439.05</td>\n",
       "      <td>7449878</td>\n",
       "      <td>Reliance Industries Limited</td>\n",
       "    </tr>\n",
       "  </tbody>\n",
       "</table>\n",
       "</div>"
      ],
      "text/plain": [
       "           Date     Open     High      Low    Close   Volume  \\\n",
       "1   Jul 3, 2017  1388.20  1394.70  1371.00  1384.00  2101886   \n",
       "2  Jun 30, 2017  1392.00  1392.40  1375.05  1383.00  1786211   \n",
       "3  Jun 29, 2017  1400.00  1410.00  1390.10  1392.35  2948322   \n",
       "4  Jun 28, 2017  1439.95  1439.95  1395.55  1399.80  3558538   \n",
       "5  Jun 27, 2017  1432.00  1443.00  1425.00  1439.05  7449878   \n",
       "\n",
       "                          Name  \n",
       "1  Reliance Industries Limited  \n",
       "2  Reliance Industries Limited  \n",
       "3  Reliance Industries Limited  \n",
       "4  Reliance Industries Limited  \n",
       "5  Reliance Industries Limited  "
      ]
     },
     "execution_count": 15,
     "metadata": {},
     "output_type": "execute_result"
    }
   ],
   "source": [
    "taby.head()"
   ]
  },
  {
   "cell_type": "code",
   "execution_count": 16,
   "metadata": {
    "collapsed": true
   },
   "outputs": [],
   "source": [
    "row1 = taby.loc[1, :]"
   ]
  },
  {
   "cell_type": "code",
   "execution_count": 17,
   "metadata": {
    "collapsed": false
   },
   "outputs": [],
   "source": [
    "k = row1"
   ]
  },
  {
   "cell_type": "code",
   "execution_count": 18,
   "metadata": {
    "collapsed": false
   },
   "outputs": [
    {
     "data": {
      "text/plain": [
       "Date                      Jul 3, 2017\n",
       "Open                          1388.20\n",
       "High                          1394.70\n",
       "Low                           1371.00\n",
       "Close                         1384.00\n",
       "Volume                        2101886\n",
       "Name      Reliance Industries Limited\n",
       "Name: 1, dtype: object"
      ]
     },
     "execution_count": 18,
     "metadata": {},
     "output_type": "execute_result"
    }
   ],
   "source": [
    "k"
   ]
  },
  {
   "cell_type": "code",
   "execution_count": 19,
   "metadata": {
    "collapsed": false
   },
   "outputs": [
    {
     "data": {
      "text/plain": [
       "numpy.ndarray"
      ]
     },
     "execution_count": 19,
     "metadata": {},
     "output_type": "execute_result"
    }
   ],
   "source": [
    "type(k.values)"
   ]
  },
  {
   "cell_type": "code",
   "execution_count": null,
   "metadata": {
    "collapsed": true
   },
   "outputs": [],
   "source": []
  },
  {
   "cell_type": "code",
   "execution_count": null,
   "metadata": {
    "collapsed": true
   },
   "outputs": [],
   "source": []
  },
  {
   "cell_type": "code",
   "execution_count": 20,
   "metadata": {
    "collapsed": false
   },
   "outputs": [],
   "source": [
    "df2 = pd.DataFrame(columns=('Name','Date','Open','High','Low','Close','Volume'))"
   ]
  },
  {
   "cell_type": "code",
   "execution_count": 21,
   "metadata": {
    "collapsed": false
   },
   "outputs": [],
   "source": [
    "df3 = pd.DataFrame(columns=('Name','Date','Open','High','Low','Close','Volume'))"
   ]
  },
  {
   "cell_type": "code",
   "execution_count": null,
   "metadata": {
    "collapsed": true
   },
   "outputs": [],
   "source": []
  },
  {
   "cell_type": "code",
   "execution_count": 22,
   "metadata": {
    "collapsed": false
   },
   "outputs": [
    {
     "data": {
      "text/html": [
       "<div>\n",
       "<style>\n",
       "    .dataframe thead tr:only-child th {\n",
       "        text-align: right;\n",
       "    }\n",
       "\n",
       "    .dataframe thead th {\n",
       "        text-align: left;\n",
       "    }\n",
       "\n",
       "    .dataframe tbody tr th {\n",
       "        vertical-align: top;\n",
       "    }\n",
       "</style>\n",
       "<table border=\"1\" class=\"dataframe\">\n",
       "  <thead>\n",
       "    <tr style=\"text-align: right;\">\n",
       "      <th></th>\n",
       "      <th>Name</th>\n",
       "      <th>Date</th>\n",
       "      <th>Open</th>\n",
       "      <th>High</th>\n",
       "      <th>Low</th>\n",
       "      <th>Close</th>\n",
       "      <th>Volume</th>\n",
       "    </tr>\n",
       "  </thead>\n",
       "  <tbody>\n",
       "    <tr>\n",
       "      <th>0</th>\n",
       "      <td>Reliance Industries Limited</td>\n",
       "      <td>Jul 3, 2017</td>\n",
       "      <td>1388.20</td>\n",
       "      <td>1394.70</td>\n",
       "      <td>1371.00</td>\n",
       "      <td>1384.00</td>\n",
       "      <td>2101886</td>\n",
       "    </tr>\n",
       "  </tbody>\n",
       "</table>\n",
       "</div>"
      ],
      "text/plain": [
       "                          Name         Date     Open     High      Low  \\\n",
       "0  Reliance Industries Limited  Jul 3, 2017  1388.20  1394.70  1371.00   \n",
       "\n",
       "     Close   Volume  \n",
       "0  1384.00  2101886  "
      ]
     },
     "execution_count": 22,
     "metadata": {},
     "output_type": "execute_result"
    }
   ],
   "source": [
    "df2.append(row1, ignore_index=True)"
   ]
  },
  {
   "cell_type": "code",
   "execution_count": 23,
   "metadata": {
    "collapsed": true
   },
   "outputs": [],
   "source": [
    "a_list = []"
   ]
  },
  {
   "cell_type": "code",
   "execution_count": 24,
   "metadata": {
    "collapsed": false
   },
   "outputs": [],
   "source": [
    "def appe(array):\n",
    "    df3 = df3.append(array)\n",
    "    return"
   ]
  },
  {
   "cell_type": "code",
   "execution_count": 25,
   "metadata": {
    "collapsed": true
   },
   "outputs": [],
   "source": [
    "st_list = [\n",
    "    \n",
    "    'https://www.google.com/finance/historical?q=NSE%3ARELIANCE&ei=xM9VWanaI4bYugTIgqCACQ',\n",
    "    'https://www.google.com/finance/historical?q=NSE%3ASBIN&ei=UPFVWdHoDJHpuATXtJHgBg',\n",
    "    'https://www.google.com/finance/historical?q=NSE%3ABHARTIARTL&ei=zPFVWcmaGYGFuQSy3JpY',\n",
    "    'https://www.google.com/finance/historical?q=NSE%3AHDFCBANK&ei=7fFVWej0L866uQTel4i4AQ',\n",
    "    'https://www.google.com/finance/historical?q=NSE%3AICICIBANK&ei=APJVWbGQH5WjuASW_o24Cg',\n",
    "    'https://www.google.com/finance/historical?q=NSE%3AWELCORP&ei=AyFWWYj5ONfBugTEnofABg'\n",
    "     \n",
    "    \n",
    "    \n",
    "]"
   ]
  },
  {
   "cell_type": "code",
   "execution_count": 26,
   "metadata": {
    "collapsed": false
   },
   "outputs": [],
   "source": [
    "def quotes (url):\n",
    "    soup7 = BeautifulSoup(urlopen(url), 'html.parser')\n",
    "    time.sleep(3)\n",
    "    head17 = soup7.findAll(\"title\")\n",
    "    head27 = head17[0].text\n",
    "    head37 = head27.split(':', 1 )\n",
    "    head47= head37[0]\n",
    "    print(head47)\n",
    "    \n",
    "    table17 = pd.read_html(url, attrs={\"class\":\"gf-table historical_price\"})\n",
    "    taby17 = table17[0]\n",
    "    taby17.rename(columns=taby17.iloc[0], inplace=True)  \n",
    "    taby17.drop(taby17.index[[0]], inplace=True)\n",
    "    taby17['Name'] = head47\n",
    "    row17 = taby17.loc[1, :]\n",
    "    print(row17)\n",
    "    global df3\n",
    "    df3 = df3.append(row17)\n",
    "    a_list.append(row17.values)\n",
    "    return "
   ]
  },
  {
   "cell_type": "code",
   "execution_count": 27,
   "metadata": {
    "collapsed": false
   },
   "outputs": [
    {
     "name": "stdout",
     "output_type": "stream",
     "text": [
      "Reliance Industries Limited\n",
      "Date                      Jul 3, 2017\n",
      "Open                          1388.20\n",
      "High                          1394.70\n",
      "Low                           1371.00\n",
      "Close                         1384.00\n",
      "Volume                        2101886\n",
      "Name      Reliance Industries Limited\n",
      "Name: 1, dtype: object\n",
      "State Bank of India\n",
      "Date              Jul 3, 2017\n",
      "Open                   274.10\n",
      "High                   275.50\n",
      "Low                    272.55\n",
      "Close                  275.30\n",
      "Volume                8951033\n",
      "Name      State Bank of India\n",
      "Name: 1, dtype: object\n",
      "Bharti Airtel Limited\n",
      "Date                Jul 3, 2017\n",
      "Open                     381.45\n",
      "High                     384.15\n",
      "Low                      376.80\n",
      "Close                    381.60\n",
      "Volume                  1521063\n",
      "Name      Bharti Airtel Limited\n",
      "Name: 1, dtype: object\n",
      "HDFC Bank Limited\n",
      "Date            Jul 3, 2017\n",
      "Open                1652.60\n",
      "High                1667.50\n",
      "Low                 1647.25\n",
      "Close               1660.00\n",
      "Volume               876083\n",
      "Name      HDFC Bank Limited\n",
      "Name: 1, dtype: object\n",
      "ICICI Bank Ltd\n",
      "Date         Jul 3, 2017\n",
      "Open              291.40\n",
      "High              292.25\n",
      "Low               288.75\n",
      "Close             290.00\n",
      "Volume           6106230\n",
      "Name      ICICI Bank Ltd\n",
      "Name: 1, dtype: object\n",
      "Welspun Corp Ltd\n",
      "Date           Jul 3, 2017\n",
      "Open                105.00\n",
      "High                107.40\n",
      "Low                 104.25\n",
      "Close               106.85\n",
      "Volume              760167\n",
      "Name      Welspun Corp Ltd\n",
      "Name: 1, dtype: object\n"
     ]
    }
   ],
   "source": [
    "for st in st_list:\n",
    "    quotes(st)"
   ]
  },
  {
   "cell_type": "code",
   "execution_count": 28,
   "metadata": {
    "collapsed": false
   },
   "outputs": [],
   "source": [
    "df3 = df3.reset_index(drop=True)"
   ]
  },
  {
   "cell_type": "code",
   "execution_count": 29,
   "metadata": {
    "collapsed": false
   },
   "outputs": [
    {
     "data": {
      "text/html": [
       "<div>\n",
       "<style>\n",
       "    .dataframe thead tr:only-child th {\n",
       "        text-align: right;\n",
       "    }\n",
       "\n",
       "    .dataframe thead th {\n",
       "        text-align: left;\n",
       "    }\n",
       "\n",
       "    .dataframe tbody tr th {\n",
       "        vertical-align: top;\n",
       "    }\n",
       "</style>\n",
       "<table border=\"1\" class=\"dataframe\">\n",
       "  <thead>\n",
       "    <tr style=\"text-align: right;\">\n",
       "      <th></th>\n",
       "      <th>Name</th>\n",
       "      <th>Date</th>\n",
       "      <th>Open</th>\n",
       "      <th>High</th>\n",
       "      <th>Low</th>\n",
       "      <th>Close</th>\n",
       "      <th>Volume</th>\n",
       "    </tr>\n",
       "  </thead>\n",
       "  <tbody>\n",
       "    <tr>\n",
       "      <th>0</th>\n",
       "      <td>Reliance Industries Limited</td>\n",
       "      <td>Jul 3, 2017</td>\n",
       "      <td>1388.20</td>\n",
       "      <td>1394.70</td>\n",
       "      <td>1371.00</td>\n",
       "      <td>1384.00</td>\n",
       "      <td>2101886</td>\n",
       "    </tr>\n",
       "    <tr>\n",
       "      <th>1</th>\n",
       "      <td>State Bank of India</td>\n",
       "      <td>Jul 3, 2017</td>\n",
       "      <td>274.10</td>\n",
       "      <td>275.50</td>\n",
       "      <td>272.55</td>\n",
       "      <td>275.30</td>\n",
       "      <td>8951033</td>\n",
       "    </tr>\n",
       "    <tr>\n",
       "      <th>2</th>\n",
       "      <td>Bharti Airtel Limited</td>\n",
       "      <td>Jul 3, 2017</td>\n",
       "      <td>381.45</td>\n",
       "      <td>384.15</td>\n",
       "      <td>376.80</td>\n",
       "      <td>381.60</td>\n",
       "      <td>1521063</td>\n",
       "    </tr>\n",
       "    <tr>\n",
       "      <th>3</th>\n",
       "      <td>HDFC Bank Limited</td>\n",
       "      <td>Jul 3, 2017</td>\n",
       "      <td>1652.60</td>\n",
       "      <td>1667.50</td>\n",
       "      <td>1647.25</td>\n",
       "      <td>1660.00</td>\n",
       "      <td>876083</td>\n",
       "    </tr>\n",
       "    <tr>\n",
       "      <th>4</th>\n",
       "      <td>ICICI Bank Ltd</td>\n",
       "      <td>Jul 3, 2017</td>\n",
       "      <td>291.40</td>\n",
       "      <td>292.25</td>\n",
       "      <td>288.75</td>\n",
       "      <td>290.00</td>\n",
       "      <td>6106230</td>\n",
       "    </tr>\n",
       "    <tr>\n",
       "      <th>5</th>\n",
       "      <td>Welspun Corp Ltd</td>\n",
       "      <td>Jul 3, 2017</td>\n",
       "      <td>105.00</td>\n",
       "      <td>107.40</td>\n",
       "      <td>104.25</td>\n",
       "      <td>106.85</td>\n",
       "      <td>760167</td>\n",
       "    </tr>\n",
       "  </tbody>\n",
       "</table>\n",
       "</div>"
      ],
      "text/plain": [
       "                          Name         Date     Open     High      Low  \\\n",
       "0  Reliance Industries Limited  Jul 3, 2017  1388.20  1394.70  1371.00   \n",
       "1          State Bank of India  Jul 3, 2017   274.10   275.50   272.55   \n",
       "2        Bharti Airtel Limited  Jul 3, 2017   381.45   384.15   376.80   \n",
       "3            HDFC Bank Limited  Jul 3, 2017  1652.60  1667.50  1647.25   \n",
       "4               ICICI Bank Ltd  Jul 3, 2017   291.40   292.25   288.75   \n",
       "5             Welspun Corp Ltd  Jul 3, 2017   105.00   107.40   104.25   \n",
       "\n",
       "     Close   Volume  \n",
       "0  1384.00  2101886  \n",
       "1   275.30  8951033  \n",
       "2   381.60  1521063  \n",
       "3  1660.00   876083  \n",
       "4   290.00  6106230  \n",
       "5   106.85   760167  "
      ]
     },
     "execution_count": 29,
     "metadata": {},
     "output_type": "execute_result"
    }
   ],
   "source": [
    "df3"
   ]
  },
  {
   "cell_type": "code",
   "execution_count": 30,
   "metadata": {
    "collapsed": false
   },
   "outputs": [],
   "source": [
    "# df3.to_csv('rohan.csv')"
   ]
  },
  {
   "cell_type": "code",
   "execution_count": null,
   "metadata": {
    "collapsed": true
   },
   "outputs": [],
   "source": []
  },
  {
   "cell_type": "code",
   "execution_count": null,
   "metadata": {
    "collapsed": true
   },
   "outputs": [],
   "source": []
  },
  {
   "cell_type": "code",
   "execution_count": null,
   "metadata": {
    "collapsed": true
   },
   "outputs": [],
   "source": []
  },
  {
   "cell_type": "code",
   "execution_count": null,
   "metadata": {
    "collapsed": true
   },
   "outputs": [],
   "source": []
  },
  {
   "cell_type": "code",
   "execution_count": null,
   "metadata": {
    "collapsed": true
   },
   "outputs": [],
   "source": []
  },
  {
   "cell_type": "code",
   "execution_count": null,
   "metadata": {
    "collapsed": true
   },
   "outputs": [],
   "source": []
  }
 ],
 "metadata": {
  "anaconda-cloud": {},
  "kernelspec": {
   "display_name": "Python [default]",
   "language": "python",
   "name": "python3"
  },
  "language_info": {
   "codemirror_mode": {
    "name": "ipython",
    "version": 3
   },
   "file_extension": ".py",
   "mimetype": "text/x-python",
   "name": "python",
   "nbconvert_exporter": "python",
   "pygments_lexer": "ipython3",
   "version": "3.5.2"
  }
 },
 "nbformat": 4,
 "nbformat_minor": 1
}
